{
 "cells": [
  {
   "cell_type": "code",
   "execution_count": null,
   "metadata": {},
   "outputs": [],
   "source": [
    "python object_detection/model_main.py \\\n",
    "    --pipeline_config_path=/home/ubuntu/kaggle-airbus_ship-faster-RCNN/ssd_mobilenet_v1_ship.config \\\n",
    "    --model_dir=/home/ubuntu/kaggle-airbus_ship-faster-RCNN/model/ \\\n",
    "    --num_train_steps=5000 \\\n",
    "    --num_eval_steps=200 \\\n",
    "    --alsologtostderr"
   ]
  },
  {
   "cell_type": "code",
   "execution_count": null,
   "metadata": {},
   "outputs": [],
   "source": [
    "tensorboard --logdir=/home/ubuntu/kaggle-airbus_ship-faster-RCNN/model/"
   ]
  },
  {
   "cell_type": "code",
   "execution_count": 2,
   "metadata": {},
   "outputs": [],
   "source": [
    "import tensorflow as tf\n",
    "fn = 'all/0a00a69de.jpg'\n",
    "with tf.Graph().as_default():\n",
    "    image_contents = tf.read_file(fn)\n",
    "    image = tf.image.decode_jpeg(image_contents, channels=3)\n",
    "    init_op = tf.initialize_all_tables()\n",
    "    with tf.Session() as sess:\n",
    "        sess.run(init_op)\n",
    "        tmp = sess.run(image)"
   ]
  },
  {
   "cell_type": "code",
   "execution_count": null,
   "metadata": {},
   "outputs": [],
   "source": []
  },
  {
   "cell_type": "code",
   "execution_count": null,
   "metadata": {},
   "outputs": [],
   "source": [
    "pip2 install --user Cython\n",
    "pip2 install --user contextlib2\n",
    "pip2 install --user jupyter\n",
    "pip2 install --user matplotlib"
   ]
  },
  {
   "cell_type": "code",
   "execution_count": null,
   "metadata": {},
   "outputs": [],
   "source": [
    "python object_detection/model_main.py \\\n",
    "    --pipeline_config_path=/home/ubuntu/raccoon_dataset/training/ssd_mobilenet_v1_pets.config \\\n",
    "    --model_dir=/home/ubuntu/raccoon_dataset/model/ \\\n",
    "    --num_train_steps=5000 \\\n",
    "    --num_eval_steps=200 \\\n",
    "    --alsologtostderr"
   ]
  }
 ],
 "metadata": {
  "kernelspec": {
   "display_name": "Environment (conda_tensorflow_p36)",
   "language": "python",
   "name": "conda_tensorflow_p36"
  },
  "language_info": {
   "codemirror_mode": {
    "name": "ipython",
    "version": 3
   },
   "file_extension": ".py",
   "mimetype": "text/x-python",
   "name": "python",
   "nbconvert_exporter": "python",
   "pygments_lexer": "ipython3",
   "version": "3.6.6"
  }
 },
 "nbformat": 4,
 "nbformat_minor": 2
}
