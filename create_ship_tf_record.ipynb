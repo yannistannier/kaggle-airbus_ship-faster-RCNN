{
 "cells": [
  {
   "cell_type": "code",
   "execution_count": 1,
   "metadata": {},
   "outputs": [
    {
     "name": "stderr",
     "output_type": "stream",
     "text": [
      "/home/ubuntu/anaconda3/lib/python3.6/site-packages/h5py/__init__.py:36: FutureWarning: Conversion of the second argument of issubdtype from `float` to `np.floating` is deprecated. In future, it will be treated as `np.float64 == np.dtype(float).type`.\n",
      "  from ._conv import register_converters as _register_converters\n"
     ]
    }
   ],
   "source": [
    "import numpy as np\n",
    "import pandas as pd\n",
    "import cv2\n",
    "import os\n",
    "import boto3\n",
    "import glob\n",
    "import io\n",
    "from math import sqrt\n",
    "from sklearn.model_selection import train_test_split\n",
    "import tensorflow as tf\n",
    "from PIL import Image\n",
    "import contextlib2\n",
    "import dataset_util\n",
    "import tf_record_creation_util\n",
    "from collections import namedtuple, OrderedDict\n",
    "from skimage.measure import regionprops\n",
    "from sklearn.utils import shuffle"
   ]
  },
  {
   "cell_type": "code",
   "execution_count": 2,
   "metadata": {},
   "outputs": [],
   "source": [
    "df = pd.read_csv(\"all/train_ship_segmentations.csv\", header=0)\n",
    "df_unique = df.drop_duplicates(\"ImageId\")"
   ]
  },
  {
   "cell_type": "code",
   "execution_count": 3,
   "metadata": {},
   "outputs": [],
   "source": [
    "df_random = df_unique.sample(frac=1)\n",
    "th = np.random.rand(len(df_random)) < 0.9"
   ]
  },
  {
   "cell_type": "code",
   "execution_count": 4,
   "metadata": {},
   "outputs": [],
   "source": [
    "train_test = df_random[th]"
   ]
  },
  {
   "cell_type": "code",
   "execution_count": 5,
   "metadata": {},
   "outputs": [],
   "source": [
    "validation = df_random[~th]\n",
    "train, test = train_test_split(train_test, test_size=0.2)"
   ]
  },
  {
   "cell_type": "markdown",
   "metadata": {},
   "source": [
    "##### Create tf records "
   ]
  },
  {
   "cell_type": "code",
   "execution_count": 7,
   "metadata": {},
   "outputs": [],
   "source": [
    "def rle_decode(mask_rle, shape=(768, 768)):\n",
    "    '''\n",
    "    mask_rle: run-length as string formated (start length)\n",
    "    shape: (height,width) of array to return \n",
    "    Returns numpy array, 1 - mask, 0 - background\n",
    "\n",
    "    '''\n",
    "    s = mask_rle.split()\n",
    "    starts, lengths = [np.asarray(x, dtype=int) for x in (s[0:][::2], s[1:][::2])]\n",
    "    starts -= 1\n",
    "    ends = starts + lengths\n",
    "    img = np.zeros(shape[0]*shape[1], dtype=np.uint8)\n",
    "    for lo, hi in zip(starts, ends):\n",
    "        img[lo:hi] = 1\n",
    "    return img.reshape(shape).T  # Needed to align to RLE direction\n",
    "\n",
    "\n",
    "def load_image(addr):\n",
    "    # read an image and resize to (224, 224)\n",
    "    # cv2 load images as BGR, convert it to RGB\n",
    "    img = cv2.imread(addr)\n",
    "#     print(img.shape)\n",
    "    img = cv2.cvtColor(img, cv2.COLOR_BGR2RGB)\n",
    "    img = img.astype(np.float32)\n",
    "    return img\n",
    "\n",
    "def _bytes_feature(value):\n",
    "    return tf.train.Feature(bytes_list=tf.train.BytesList(value=[value]))\n",
    "\n",
    "def rle_to_box(mask_rle):\n",
    "    m = rle_decode(mask_rle)\n",
    "    ps = regionprops(m)\n",
    "    return ps[0].bbox\n",
    "\n",
    "def create_tf_example(path, group):\n",
    "    #with tf.gfile.GFile(\"/Users/yannis/Developpement/kaggle/airbus/all/train/\"+path, 'rb') as fid:\n",
    "        #encoded_jpg = fid.read()\n",
    "        \n",
    "    with tf.gfile.GFile(\"/home/ubuntu/kaggle-airbus_ship-faster-RCNN/all/train/\"+path, 'rb') as fid:\n",
    "        encoded_jpg = fid.read()\n",
    "    \n",
    "    encoded_jpg_io = io.BytesIO(encoded_jpg)\n",
    "    image = Image.open(encoded_jpg_io)\n",
    "    width, height = image.size\n",
    "\n",
    "    filename = image.filename.encode('utf8')\n",
    "    \n",
    "#     filename = path.encode('utf8')\n",
    "    image_format = b'jpg'\n",
    "    xmins = []\n",
    "    xmaxs = []\n",
    "    ymins = []\n",
    "    ymaxs = []\n",
    "    classes_text = []\n",
    "    classes = []\n",
    "    \n",
    "    for g in group:\n",
    "        if str(g) != \"nan\" : \n",
    "            pixel = rle_to_box(g)\n",
    "            xmins.append(pixel[0] / width)\n",
    "            ymins.append(pixel[1] / height)\n",
    "            xmaxs.append(pixel[2] / width)\n",
    "            ymaxs.append(pixel[3] / height)\n",
    "            classes_text.append(\"ship\".encode('utf8'))\n",
    "            classes.append(1)\n",
    "    \n",
    "    tf_example = tf.train.Example(features=tf.train.Features(feature={\n",
    "      'image/height': dataset_util.int64_feature(height),\n",
    "      'image/width': dataset_util.int64_feature(width),\n",
    "      'image/filename': dataset_util.bytes_feature(filename),\n",
    "      'image/source_id': dataset_util.bytes_feature(filename),\n",
    "#       'image/encoded':encoded_jpg,\n",
    "      'image/encoded': dataset_util.bytes_feature(encoded_jpg),\n",
    "      'image/format': dataset_util.bytes_feature(image_format),\n",
    "      'image/object/bbox/xmin': dataset_util.float_list_feature(xmins),\n",
    "      'image/object/bbox/xmax': dataset_util.float_list_feature(xmaxs),\n",
    "      'image/object/bbox/ymin': dataset_util.float_list_feature(ymins),\n",
    "      'image/object/bbox/ymax': dataset_util.float_list_feature(ymaxs),\n",
    "      'image/object/class/text': dataset_util.bytes_list_feature(classes_text),\n",
    "      'image/object/class/label': dataset_util.int64_list_feature(classes),\n",
    "    }))\n",
    "    return tf_example\n",
    "\n",
    "\n",
    "def create_record(dataset, name, df):\n",
    "#     writer = tf.python_io.TFRecordWriter(\"datas/\"+name+\"-v2.records\")\n",
    "    \n",
    "#     i = 0\n",
    "#     for index, row in dataset.iterrows():\n",
    "#         row = row.tolist()\n",
    "#         group = df.loc[df['ImageId'] == row[0]][\"EncodedPixels\"]\n",
    "#         tf_example = create_tf_example(row[0], group)\n",
    "        \n",
    "#         writer.write(tf_example.SerializeToString())\n",
    "#         if i == 50:\n",
    "#             break\n",
    "#         i += 1\n",
    "\n",
    "#     writer.close()\n",
    "    \n",
    "    num_shards=10\n",
    "    output_filebase='datas/'+name+\"/\"+name+\".records\"\n",
    "\n",
    "    with contextlib2.ExitStack() as tf_record_close_stack:\n",
    "        output_tfrecords = tf_record_creation_util.open_sharded_output_tfrecords(tf_record_close_stack, output_filebase, num_shards)\n",
    "        i=0\n",
    "        for index, row in dataset.iterrows():\n",
    "            row = row.tolist()\n",
    "            group = df.loc[df['ImageId'] == row[0]][\"EncodedPixels\"]\n",
    "            tf_example = create_tf_example(row[0], group)\n",
    "            output_shard_index = i % num_shards\n",
    "            output_tfrecords[output_shard_index].write(tf_example.SerializeToString())\n",
    "            i += 1"
   ]
  },
  {
   "cell_type": "markdown",
   "metadata": {},
   "source": [
    "Create train record"
   ]
  },
  {
   "cell_type": "code",
   "execution_count": 8,
   "metadata": {},
   "outputs": [],
   "source": [
    "create_record(train, \"train\", df)"
   ]
  },
  {
   "cell_type": "code",
   "execution_count": null,
   "metadata": {},
   "outputs": [],
   "source": [
    "create_record(test, \"test\", df)"
   ]
  },
  {
   "cell_type": "code",
   "execution_count": null,
   "metadata": {},
   "outputs": [],
   "source": [
    "# bash\n",
    "# aws s3 cp data/train.recods s3://kaggle-yannis/airbus/train.records\n",
    "# aws s3 cp data/test.recods s3://kaggle-yannis/airbus/test.records"
   ]
  },
  {
   "cell_type": "markdown",
   "metadata": {},
   "source": [
    "### Create TF record for resnet - tf"
   ]
  },
  {
   "cell_type": "code",
   "execution_count": 3,
   "metadata": {},
   "outputs": [],
   "source": [
    "def create_tf_example(path):\n",
    "        \n",
    "    with tf.gfile.GFile(\"/home/ubuntu/kaggle/kaggle-airbus_ship-faster-RCNN/\"+path, 'rb') as fid:\n",
    "        encoded_jpg = fid.read()\n",
    "    \n",
    "    width, height = (350,350 )\n",
    "    image_format = b'jpg'\n",
    "    \n",
    "    if \"noship\" in path:\n",
    "        classes = [2]\n",
    "    else:\n",
    "        classes = [1]\n",
    "    \n",
    "    tf_example = tf.train.Example(features=tf.train.Features(feature={\n",
    "      'image/height': dataset_util.int64_feature(height),\n",
    "      'image/width': dataset_util.int64_feature(width),\n",
    "      'image/encoded': dataset_util.bytes_feature(encoded_jpg),\n",
    "      'image/format': dataset_util.bytes_feature(image_format),\n",
    "      'image/class/label': dataset_util.int64_list_feature(classes),\n",
    "    }))\n",
    "    return tf_example\n",
    "\n",
    "\n",
    "def create_record(dataset):\n",
    "    writer = tf.python_io.TFRecordWriter(\"all/datas/train_classifier.tfrecord\")\n",
    "    \n",
    "    i = 0\n",
    "    for x in dataset:\n",
    "        tf_example = create_tf_example(x)\n",
    "        writer.write(tf_example.SerializeToString())\n",
    "\n",
    "    writer.close()"
   ]
  },
  {
   "cell_type": "code",
   "execution_count": 4,
   "metadata": {},
   "outputs": [],
   "source": [
    "create_record( shuffle(glob.glob(\"all/resize/350/*/*\")) )"
   ]
  },
  {
   "cell_type": "code",
   "execution_count": null,
   "metadata": {},
   "outputs": [],
   "source": []
  },
  {
   "cell_type": "code",
   "execution_count": null,
   "metadata": {},
   "outputs": [],
   "source": []
  },
  {
   "cell_type": "code",
   "execution_count": null,
   "metadata": {},
   "outputs": [],
   "source": []
  }
 ],
 "metadata": {
  "kernelspec": {
   "display_name": "Python 3",
   "language": "python",
   "name": "python3"
  },
  "language_info": {
   "codemirror_mode": {
    "name": "ipython",
    "version": 3
   },
   "file_extension": ".py",
   "mimetype": "text/x-python",
   "name": "python",
   "nbconvert_exporter": "python",
   "pygments_lexer": "ipython3",
   "version": "3.6.4"
  }
 },
 "nbformat": 4,
 "nbformat_minor": 2
}
